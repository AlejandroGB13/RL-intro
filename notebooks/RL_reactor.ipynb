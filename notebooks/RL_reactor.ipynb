{
 "cells": [
  {
   "cell_type": "code",
   "execution_count": 1,
   "id": "c67da35b",
   "metadata": {},
   "outputs": [],
   "source": [
    "import numpy as np\n",
    "import gym\n",
    "import torch\n",
    "import torch.optim as optim\n",
    "import torch.nn as nn\n",
    "from sklearn import preprocessing\n",
    "import matplotlib.pyplot as plt\n",
    "from torch.distributions import Categorical\n",
    "from torch.distributions import Normal\n",
    "import torch.nn.functional as F\n",
    "import optuna\n",
    "import optuna.visualization as vis"
   ]
  },
  {
   "cell_type": "code",
   "execution_count": 2,
   "id": "31e2d69b",
   "metadata": {},
   "outputs": [
    {
     "data": {
      "text/plain": [
       "<module '__main__'>"
      ]
     },
     "execution_count": 2,
     "metadata": {},
     "output_type": "execute_result"
    }
   ],
   "source": [
    "import sys\n",
    "sys.modules[__name__]"
   ]
  },
  {
   "cell_type": "raw",
   "id": "372dbd53",
   "metadata": {},
   "source": [
    "we will simulate a continuous stirred tank reactor (CSTR), which is a common type of chemical reactor used in the chemical process industry. The CSTR is a well-mixed vessel in which a chemical reaction takes place. It has an inlet and an outlet for the reactants and products, and a stirrer to ensure that the reactants are well mixed.\n",
    "\n",
    "The inputs to the CSTR will be the flow rates of the two reactants (inlet streams), and the temperature and the volume of the reactor. The outputs will be the concentration of the product and the rate of production.\n",
    "\n",
    "We will use the following equation to simulate the reaction:\n",
    "\n",
    "A+B→CA+B→C\n",
    "\n",
    "r=kCACBr=kCA​CB​\n",
    "\n",
    "Where $C_A$ and $C_B$ are the concentrations of reactants A and B, respectively, $C$ is the concentration of product C, $k$ is the reaction rate constant, and $r$ is the rate of production.\n",
    "\n",
    "We will use the Euler method to simulate the reactor, and we will discretize time into small intervals."
   ]
  },
  {
   "cell_type": "raw",
   "id": "d834266f",
   "metadata": {},
   "source": [
    "Inputs:\n",
    "\n",
    "    V: reactor volume (m^3)\n",
    "    q: volumetric flow rate (m^3/s)\n",
    "    c0: initial concentrations of the reactants [Ca0, Cb0, Cc0] (mol/m^3)\n",
    "    k0: pre-exponential factor in the Arrhenius equation (1/s)\n",
    "    Ea: activation energy (J/mol)\n",
    "    R: gas constant (J/(mol*K))\n",
    "    deltaH: heat of reaction (J/mol)\n",
    "\n",
    "Outputs:\n",
    "\n",
    "    y: concentration of the product Cc at the outlet (mol/m^3)"
   ]
  },
  {
   "cell_type": "markdown",
   "id": "5db53856",
   "metadata": {},
   "source": [
    "# Define environment"
   ]
  },
  {
   "cell_type": "code",
   "execution_count": 3,
   "id": "003b61a3",
   "metadata": {},
   "outputs": [],
   "source": [
    "class CSTR:\n",
    "    def __init__(self, V, q, c0, k0, Ea, R, deltaH):\n",
    "        self.V = V\n",
    "        self.q = q\n",
    "        self.c0 = c0\n",
    "        self.k0 = k0\n",
    "        self.Ea = Ea\n",
    "        self.R = R\n",
    "        self.deltaH = deltaH\n",
    "        \n",
    "        self.c = c0\n",
    "        self.T = 300.0 # initial temperature\n",
    "        \n",
    "#         # Define action space\n",
    "#         self.action_space = spaces.Box(low=0, high=np.inf, shape=(1,))\n",
    "\n",
    "#         # Define observation space\n",
    "#         self.observation_space = spaces.Box(low=-np.inf, high=np.inf, shape=(3,))\n",
    "     \n",
    "    \n",
    "    def step(self, u):\n",
    "        # u is the input flow rate\n",
    "        Fa = u\n",
    "        F = self.q * self.V\n",
    "        ca, cb, cc = self.c\n",
    "        \n",
    "        # Compute the reaction rate constant\n",
    "        k = self.k0 * np.exp(-self.Ea / (self.R * self.T))\n",
    "        \n",
    "        # Compute the reaction rate\n",
    "        r = k * ca * cb\n",
    "        \n",
    "        # Compute the rate of change of the concentrations\n",
    "        dca_dt = (Fa * self.c0[0] - F * ca - self.V * r) / (self.V * self.q)\n",
    "        dcb_dt = (Fa * self.c0[1] - F * cb + self.V * r) / (self.V * self.q)\n",
    "        dcc_dt = (-Fa * cc + F * (self.c0[2] - cc) - self.V * r) / (self.V * self.q)\n",
    "        \n",
    "        # Update the concentrations\n",
    "        self.c += np.array([dca_dt, dcb_dt, dcc_dt]) * 0.1\n",
    "        \n",
    "        # Compute the new temperature\n",
    "        dT_dt = (self.deltaH / (self.R * self.V * self.q)) * r\n",
    "        self.T += dT_dt * 0.1\n",
    "        \n",
    "        # Compute the output\n",
    "        y = self.c[2]\n",
    "        \n",
    "        return y"
   ]
  },
  {
   "cell_type": "code",
   "execution_count": 4,
   "id": "3a1f5af6",
   "metadata": {},
   "outputs": [
    {
     "data": {
      "image/png": "[encoded data removed]",
      "text/plain": [
       "<Figure size 640x480 with 1 Axes>"
      ]
     },
     "metadata": {},
     "output_type": "display_data"
    }
   ],
   "source": [
    "# Define the input flow rate profile\n",
    "u = np.ones((100,)) * 10.0\n",
    "\n",
    "# Define the model parameters\n",
    "V = 10.0\n",
    "q = 1.0\n",
    "c0 = np.array([1.0, 2.0, 0.0])\n",
    "k0 = 1e9\n",
    "Ea = 87500.0\n",
    "R = 8.314\n",
    "deltaH = -4.2e4\n",
    "\n",
    "# Create an instance of the CSTR class\n",
    "cstr = CSTR(V, q, c0, k0, Ea, R, deltaH)\n",
    "\n",
    "# Run the simulation\n",
    "y = np.zeros((100,))\n",
    "for i in range(100):\n",
    "    y[i] = cstr.step(u[i])\n",
    "    \n",
    "# Plot the output\n",
    "plt.plot(y)\n",
    "plt.xlabel('Time')\n",
    "plt.ylabel('Output')\n",
    "plt.show()"
   ]
  },
  {
   "cell_type": "markdown",
   "id": "c5db79d4",
   "metadata": {},
   "source": [
    "# Define Gym interface (OpenAI)"
   ]
  },
  {
   "cell_type": "code",
   "execution_count": 5,
   "id": "24667de6",
   "metadata": {},
   "outputs": [],
   "source": [
    "class CSTREnv(gym.Env):\n",
    "    def __init__(self, V=10.0, q=1.0, c0=[1.0, 2.0, 0.0], k0=1.0e9, Ea=87500.0, R=8.314, deltaH=--4.2e4):\n",
    "        super(CSTREnv, self).__init__()\n",
    "        \n",
    "        self.cstr = CSTR(V, q, c0, k0, Ea, R, deltaH)\n",
    "        \n",
    "        self.action_space = gym.spaces.Box(low=0.0, high=1000.0, shape=(1,), dtype=np.float32)\n",
    "        self.observation_space = gym.spaces.Box(low=0.0, high=np.inf, shape=(3,), dtype=np.float32)\n",
    "        \n",
    "        self.done = False\n",
    "        \n",
    "    def reset(self):\n",
    "        self.done = False\n",
    "        return self.cstr.c\n",
    "\n",
    "    \n",
    "    def step(self, action):\n",
    "        u = action[0]\n",
    "        y = self.cstr.step(u)\n",
    "        obs = self.cstr.c\n",
    "\n",
    "        # Compute the reward\n",
    "        reward = -np.abs(y - 0.5) - 0.01 * np.abs(u)\n",
    "        if np.abs(y - 0.5) < 0.1:\n",
    "            reward += 1.0\n",
    "            self.done = True\n",
    "\n",
    "        return obs, reward, self.done, {}\n",
    "        \n",
    "    \n",
    "# Set the environment ID\n",
    "try:\n",
    "    gym.envs.register(\n",
    "      id='SimulateCSTR-v1',\n",
    "      entry_point='__main__:CSTREnv',\n",
    "      max_episode_steps=1000\n",
    "    )\n",
    "except:\n",
    "    pass"
   ]
  },
  {
   "cell_type": "markdown",
   "id": "fedb7f0a",
   "metadata": {},
   "source": [
    "Reward defined as followed:\n",
    "\n",
    "En este caso, el reward se utiliza para evaluar qué tan cerca está el sistema de alcanzar la concentración objetivo del reactor de CSTR. El objetivo del agente es maximizar la recompensa total a través de la toma de decisiones que le permitan acercar la concentración del sistema al valor deseado.\n",
    "\n",
    "El reward se calcula a partir de dos términos. El primer término está relacionado con qué tan cerca está la concentración actual del sistema del valor objetivo (0.5). Este término es negativo y disminuye cuando la concentración se aleja del valor deseado. El segundo término está relacionado con qué tan grande es la señal de control u que el agente está aplicando. Este término también es negativo y disminuye a medida que la señal de control es mayor.\n",
    "\n",
    "Si el valor absoluto de la diferencia entre la concentración actual del sistema y la concentración objetivo es menor que 0.1, se agrega un término positivo a la recompensa que aumenta el valor de la recompensa en 1.0. Además, el episodio se considera \"terminado\" estableciendo la variable self.done en True."
   ]
  },
  {
   "cell_type": "markdown",
   "id": "185c04ae",
   "metadata": {},
   "source": [
    "# Actor-critic algorithm"
   ]
  },
  {
   "cell_type": "code",
   "execution_count": 6,
   "id": "d935c4ae",
   "metadata": {},
   "outputs": [],
   "source": [
    "# class Actor(nn.Module):\n",
    "#     def __init__(self, state_size, action_size):\n",
    "#         super(Actor, self).__init__()\n",
    "#         self.fc1 = nn.Linear(state_size, 64)\n",
    "#         self.fc2 = nn.Linear(64, 32)\n",
    "#         self.fc3 = nn.Linear(32, action_size)\n",
    "        \n",
    "#     def forward(self, state):\n",
    "#         x = torch.relu(self.fc1(state))\n",
    "#         x = torch.relu(self.fc2(x))\n",
    "#         x = torch.tanh(self.fc3(x))\n",
    "#         return x\n",
    "\n",
    "# class Actor(nn.Module):\n",
    "#     def __init__(self, state_size, action_size):\n",
    "#         super(Actor, self).__init__()\n",
    "#         self.fc1 = nn.Linear(state_size, 64)\n",
    "#         self.fc2 = nn.Linear(64, 32)\n",
    "#         self.fc3 = nn.Linear(32, action_size)\n",
    "#         self.fc4 = nn.Linear(32, action_size)\n",
    "        \n",
    "#     def forward(self, state):\n",
    "#         x = torch.relu(self.fc1(state))\n",
    "#         x = torch.relu(self.fc2(x))\n",
    "#         mean = torch.tanh(self.fc3(x))\n",
    "#         std = F.softplus(self.fc4(x))\n",
    "#         return mean, std\n",
    "\n",
    "# class Critic(nn.Module):\n",
    "#     def __init__(self, state_size):\n",
    "#         super(Critic, self).__init__()\n",
    "#         self.fc1 = nn.Linear(state_size, 64)\n",
    "#         self.fc2 = nn.Linear(64, 32)\n",
    "#         self.fc3 = nn.Linear(32, 1)\n",
    "        \n",
    "#     def forward(self, state):\n",
    "#         x = torch.relu(self.fc1(state))\n",
    "#         x = torch.relu(self.fc2(x))\n",
    "#         x = self.fc3(x)\n",
    "#         return x\n",
    "\n",
    "class Actor(nn.Module):\n",
    "    def __init__(self, state_size, action_size, layers, hidden_sizes):\n",
    "        super(Actor, self).__init__()\n",
    "        self.hidden_layers = nn.ModuleList()\n",
    "        input_size = state_size\n",
    "        for i in range(layers):\n",
    "            self.hidden_layers.append(nn.Linear(input_size, hidden_sizes))\n",
    "            input_size = hidden_sizes\n",
    "        self.output_layer = nn.Linear(input_size, action_size)\n",
    "        \n",
    "    def forward(self, state):\n",
    "        x = state\n",
    "        for hidden_layer in self.hidden_layers:\n",
    "            x = torch.relu(hidden_layer(x))\n",
    "        mean = torch.tanh(self.output_layer(x))\n",
    "        std = F.softplus(self.output_layer(x))\n",
    "        return mean, std\n",
    "\n",
    "class Critic(nn.Module):\n",
    "    def __init__(self, state_size, layers, hidden_sizes):\n",
    "        super(Critic, self).__init__()\n",
    "        self.hidden_layers = nn.ModuleList()\n",
    "        input_size = state_size\n",
    "        for i in range(layers):\n",
    "            self.hidden_layers.append(nn.Linear(input_size, hidden_sizes))\n",
    "            input_size = hidden_sizes\n",
    "        self.output_layer = nn.Linear(input_size, 1)\n",
    "        \n",
    "    def forward(self, state):\n",
    "        x = state\n",
    "        for hidden_layer in self.hidden_layers:\n",
    "            x = torch.relu(hidden_layer(x))\n",
    "        value = self.output_layer(x)\n",
    "        return value"
   ]
  },
  {
   "cell_type": "raw",
   "id": "ca5d3fd2",
   "metadata": {},
   "source": [
    "class A2C:\n",
    "    def __init__(self, env, lr_actor=1e-5, lr_critic=1e-5, gamma=0.99):\n",
    "        self.env = env\n",
    "        self.gamma = gamma\n",
    "        self.actor = Actor(env.observation_space.shape[0], env.action_space.shape[0]).float()\n",
    "        self.critic = Critic(env.observation_space.shape[0]).float()\n",
    "        self.actor_optimizer = optim.Adam(self.actor.parameters(), lr=lr_actor)\n",
    "        self.critic_optimizer = optim.Adam(self.critic.parameters(), lr=lr_critic)\n",
    " \n",
    "    def train(self, n_episodes, max_timesteps):\n",
    "        actor_losses = []\n",
    "        critic_losses = []\n",
    "\n",
    "        for i_episode in range(n_episodes):\n",
    "            state = self.env.reset()\n",
    "            episode_rewards = []\n",
    "\n",
    "            for t in range(max_timesteps):\n",
    "                # Sample action from the actor\n",
    "                mean, std = self.actor(torch.tensor(state).float())\n",
    "                dist = Normal(mean, std)\n",
    "                action = dist.sample().numpy()\n",
    "                log_prob = dist.log_prob(torch.tensor(action)).sum()\n",
    "\n",
    "                # Take a step in the environment\n",
    "                next_state, reward, done, _ = self.env.step(action)\n",
    "                episode_rewards.append(reward)\n",
    "\n",
    "                # Compute the TD error\n",
    "                value = self.critic(torch.tensor(state).float())\n",
    "                next_value = self.critic(torch.tensor(next_state).float())\n",
    "                td_error = reward + self.gamma * next_value.detach() * (1 - int(done)) - value\n",
    "\n",
    "                # Update the critic\n",
    "                self.critic_optimizer.zero_grad()\n",
    "                loss_critic = td_error.pow(2).mean()\n",
    "                loss_critic.backward()\n",
    "                self.critic_optimizer.step()\n",
    "\n",
    "                # Update the actor\n",
    "                self.actor_optimizer.zero_grad()\n",
    "                loss_actor = -(log_prob * td_error.detach()).mean()\n",
    "                loss_actor.backward()\n",
    "                self.actor_optimizer.step()\n",
    "\n",
    "                state = next_state\n",
    "\n",
    "                if done:\n",
    "                    break\n",
    "\n",
    "            # Store the losses\n",
    "            actor_losses.append(loss_actor.item())\n",
    "            critic_losses.append(loss_critic.item())\n",
    "\n",
    "            # Print statistics\n",
    "            episode_reward = sum(episode_rewards)\n",
    "            print(f\"Episode {i_episode + 1}/{n_episodes}: reward={episode_reward:.2f}\")\n",
    "\n",
    "        return actor_losses, critic_losses"
   ]
  },
  {
   "cell_type": "code",
   "execution_count": 7,
   "id": "3b9f1053",
   "metadata": {},
   "outputs": [],
   "source": [
    "class A2C:\n",
    "    def __init__(self, env, lr_actor=1e-5, lr_critic=1e-5, gamma=0.99,\n",
    "                 actor_hidden_sizes=64, critic_hidden_sizes=64, \n",
    "                actor_layers=2, critic_layers=2):\n",
    "        self.env = env\n",
    "        self.gamma = gamma\n",
    "        self.actor = Actor(env.observation_space.shape[0], env.action_space.shape[0],\n",
    "                           actor_layers, actor_hidden_sizes).float()\n",
    "        self.critic = Critic(env.observation_space.shape[0], critic_layers, critic_hidden_sizes).float()\n",
    "        self.actor_optimizer = optim.Adam(self.actor.parameters(), lr=lr_actor)\n",
    "        self.critic_optimizer = optim.Adam(self.critic.parameters(), lr=lr_critic)\n",
    "        \n",
    "    def train(self, n_episodes, max_timesteps):\n",
    "        actor_losses = []\n",
    "        critic_losses = []\n",
    "        episode_rewards = []\n",
    "\n",
    "        for i_episode in range(n_episodes):\n",
    "            state = self.env.reset()\n",
    "            total_reward = 0\n",
    "\n",
    "            for t in range(max_timesteps):\n",
    "                # Sample action from the actor\n",
    "                mean, std = self.actor(torch.tensor(state).float())\n",
    "                dist = Normal(mean, std)\n",
    "                action = dist.sample().numpy()\n",
    "                log_prob = dist.log_prob(torch.tensor(action)).sum()\n",
    "\n",
    "                # Take a step in the environment\n",
    "                next_state, reward, done, _ = self.env.step(action)\n",
    "                total_reward += reward\n",
    "\n",
    "                # Compute the TD error\n",
    "                value = self.critic(torch.tensor(state).float())\n",
    "                next_value = self.critic(torch.tensor(next_state).float())\n",
    "                td_error = reward + self.gamma * next_value.detach() * (1 - int(done)) - value\n",
    "\n",
    "                # Update the critic\n",
    "                self.critic_optimizer.zero_grad()\n",
    "                loss_critic = td_error.pow(2).mean()\n",
    "                loss_critic.backward()\n",
    "                self.critic_optimizer.step()\n",
    "\n",
    "                # Update the actor\n",
    "                self.actor_optimizer.zero_grad()\n",
    "                loss_actor = -(log_prob * td_error.detach()).mean()\n",
    "                loss_actor.backward()\n",
    "                self.actor_optimizer.step()\n",
    "\n",
    "                state = next_state\n",
    "\n",
    "                if done:\n",
    "                    break\n",
    "\n",
    "            # Store the losses and total reward\n",
    "            actor_losses.append(loss_actor.item())\n",
    "            critic_losses.append(loss_critic.item())\n",
    "            episode_rewards.append(total_reward)\n",
    "\n",
    "            # Print statistics\n",
    "            print(f\"Episode {i_episode + 1}/{n_episodes}: reward={total_reward:.2f}\")\n",
    "\n",
    "        return actor_losses, critic_losses, episode_rewards"
   ]
  },
  {
   "cell_type": "raw",
   "id": "5c3d3fc3",
   "metadata": {},
   "source": [
    "\"\"\"\n",
    "def train(self, n_episodes, max_timesteps):\n",
    "        for i_episode in range(n_episodes):\n",
    "            state = self.env.reset()\n",
    "            episode_rewards = []\n",
    "            \n",
    "            for t in range(max_timesteps):\n",
    "                # Sample action from the actor\n",
    "                action = self.actor(torch.tensor(state).float()).detach().numpy()\n",
    "                \n",
    "                # Take a step in the environment\n",
    "                next_state, reward, done, _ = self.env.step(action)\n",
    "#                 print(reward)\n",
    "#                 print(done)\n",
    "#                 print(next_state)\n",
    "                episode_rewards.append(reward)\n",
    "                \n",
    "                # Compute the TD error\n",
    "                value = self.critic(torch.tensor(state).float())\n",
    "                next_value = self.critic(torch.tensor(next_state).float())\n",
    "                td_error = reward + self.gamma * next_value.detach() * (1 - int(done)) - value\n",
    "                \n",
    "                # Update the critic\n",
    "                self.critic_optimizer.zero_grad()\n",
    "                loss_critic = td_error.pow(2).mean()\n",
    "                loss_critic.backward()\n",
    "                self.critic_optimizer.step()\n",
    "                \n",
    "                # Update the actor\n",
    "                self.actor_optimizer.zero_grad()\n",
    "                log_prob = -0.5 * (np.log(2 * np.pi) + self.actor(torch.tensor(state).float()).pow(2))\n",
    "                loss_actor = -(log_prob * td_error.detach()).mean()\n",
    "                loss_actor.backward()\n",
    "                self.actor_optimizer.step()\n",
    "                \n",
    "                # Update the state\n",
    "                state = next_state\n",
    "                \n",
    "                # End the episode if done\n",
    "                if done:\n",
    "                    break\n",
    "                    \n",
    "            # Print statistics\n",
    "            episode_reward = sum(episode_rewards)\n",
    "            print(f\"Episode {i_episode + 1}/{n_episodes}: reward={episode_reward:.2f}\")\n",
    "\"\"\""
   ]
  },
  {
   "cell_type": "code",
   "execution_count": 8,
   "id": "5606e338",
   "metadata": {},
   "outputs": [
    {
     "name": "stdout",
     "output_type": "stream",
     "text": [
      "Episode 1/20: reward=-505.86\n",
      "Episode 2/20: reward=-505.90\n",
      "Episode 3/20: reward=-506.21\n",
      "Episode 4/20: reward=-506.21\n",
      "Episode 5/20: reward=-505.97\n",
      "Episode 6/20: reward=-506.03\n",
      "Episode 7/20: reward=-505.91\n",
      "Episode 8/20: reward=-505.88\n",
      "Episode 9/20: reward=-505.86\n",
      "Episode 10/20: reward=-506.22\n",
      "Episode 11/20: reward=-505.87\n",
      "Episode 12/20: reward=-505.80\n",
      "Episode 13/20: reward=-505.99\n",
      "Episode 14/20: reward=-505.96\n",
      "Episode 15/20: reward=-505.89\n",
      "Episode 16/20: reward=-506.07\n",
      "Episode 17/20: reward=-505.76\n",
      "Episode 18/20: reward=-505.94\n",
      "Episode 19/20: reward=-505.91\n",
      "Episode 20/20: reward=-505.75\n"
     ]
    }
   ],
   "source": [
    "env = gym.make(\"SimulateCSTR-v1\")\n",
    "agent = A2C(env)\n",
    "actor_losses, critic_losses, episode_rewards = agent.train(n_episodes=20, max_timesteps=1000)"
   ]
  },
  {
   "cell_type": "code",
   "execution_count": 9,
   "id": "663d658e",
   "metadata": {},
   "outputs": [
    {
     "data": {
      "image/png": "[encoded data removed]",
      "text/plain": [
       "<Figure size 640x480 with 1 Axes>"
      ]
     },
     "metadata": {},
     "output_type": "display_data"
    }
   ],
   "source": [
    "plt.plot(actor_losses, label=\"Actor\")\n",
    "plt.plot(critic_losses, label=\"Critic\")\n",
    "plt.xlabel(\"Episode\")\n",
    "plt.ylabel(\"Loss\")\n",
    "plt.legend()\n",
    "plt.show()"
   ]
  },
  {
   "cell_type": "code",
   "execution_count": 10,
   "id": "69729838",
   "metadata": {},
   "outputs": [
    {
     "data": {
      "image/png": "[encoded data removed]",
      "text/plain": [
       "<Figure size 640x480 with 1 Axes>"
      ]
     },
     "metadata": {},
     "output_type": "display_data"
    }
   ],
   "source": [
    "plt.plot(episode_rewards)\n",
    "plt.xlabel(\"Episode\")\n",
    "plt.ylabel(\"Total Reward\")\n",
    "plt.show()"
   ]
  },
  {
   "cell_type": "code",
   "execution_count": 11,
   "id": "79ad7e0f",
   "metadata": {},
   "outputs": [
    {
     "data": {
      "text/plain": [
       "[-0.2639554440975189,\n",
       " 0.12665025889873505,\n",
       " 0.47382500767707825,\n",
       " 0.9574459195137024,\n",
       " 3.3271210193634033,\n",
       " 1.9276278018951416,\n",
       " 2.2549498081207275,\n",
       " 2.901587963104248,\n",
       " 4.043478965759277,\n",
       " 13.80214786529541,\n",
       " 4.973977088928223,\n",
       " 5.993862152099609,\n",
       " 6.610389709472656,\n",
       " 19.58164405822754,\n",
       " 10.737278938293457,\n",
       " 10.114469528198242,\n",
       " 9.575770378112793,\n",
       " 11.543254852294922,\n",
       " 13.626914978027344,\n",
       " 21.821054458618164]"
      ]
     },
     "execution_count": 11,
     "metadata": {},
     "output_type": "execute_result"
    }
   ],
   "source": [
    "actor_losses"
   ]
  },
  {
   "cell_type": "code",
   "execution_count": 12,
   "id": "8bd4ffa9",
   "metadata": {},
   "outputs": [
    {
     "data": {
      "text/plain": [
       "[0.05743064358830452,\n",
       " 0.034260693937540054,\n",
       " 0.49645406007766724,\n",
       " 1.6929523944854736,\n",
       " 3.913839101791382,\n",
       " 7.611852645874023,\n",
       " 12.817082405090332,\n",
       " 20.400392532348633,\n",
       " 31.671934127807617,\n",
       " 47.56639862060547,\n",
       " 63.669334411621094,\n",
       " 85.03689575195312,\n",
       " 112.98875427246094,\n",
       " 141.0542755126953,\n",
       " 158.1487579345703,\n",
       " 202.9972686767578,\n",
       " 227.11627197265625,\n",
       " 250.45172119140625,\n",
       " 296.2073059082031,\n",
       " 365.6441650390625]"
      ]
     },
     "execution_count": 12,
     "metadata": {},
     "output_type": "execute_result"
    }
   ],
   "source": [
    "critic_losses"
   ]
  },
  {
   "cell_type": "code",
   "execution_count": 13,
   "id": "845381e9",
   "metadata": {},
   "outputs": [
    {
     "data": {
      "text/plain": [
       "[-505.8567894317665,\n",
       " -505.9036925195162,\n",
       " -506.20556772571706,\n",
       " -506.2104405358836,\n",
       " -505.9716190651304,\n",
       " -506.0318150777031,\n",
       " -505.9095533393178,\n",
       " -505.87878982422365,\n",
       " -505.86307862987985,\n",
       " -506.21502740038454,\n",
       " -505.86632439804544,\n",
       " -505.7971808571966,\n",
       " -505.9892453932308,\n",
       " -505.95925108400826,\n",
       " -505.8877961542362,\n",
       " -506.07071737970426,\n",
       " -505.76279019716236,\n",
       " -505.9368897224295,\n",
       " -505.9113396325148,\n",
       " -505.7497206469546]"
      ]
     },
     "execution_count": 13,
     "metadata": {},
     "output_type": "execute_result"
    }
   ],
   "source": [
    "episode_rewards"
   ]
  },
  {
   "cell_type": "markdown",
   "id": "7faff8db",
   "metadata": {},
   "source": [
    "# Hyperparameter optimization"
   ]
  },
  {
   "cell_type": "code",
   "execution_count": 16,
   "id": "09016612",
   "metadata": {},
   "outputs": [
    {
     "name": "stderr",
     "output_type": "stream",
     "text": [
      "\u001b[32m[I 2023-03-27 13:17:33,022]\u001b[0m A new study created in memory with name: no-name-9c196a2b-10b0-4e6a-9386-e140743a4d8f\u001b[0m\n"
     ]
    },
    {
     "name": "stdout",
     "output_type": "stream",
     "text": [
      "Episode 1/5: reward=-505.61\n",
      "Episode 2/5: reward=-504.80\n",
      "Episode 3/5: reward=-507.21\n",
      "Episode 4/5: reward=-505.48\n"
     ]
    },
    {
     "name": "stderr",
     "output_type": "stream",
     "text": [
      "\u001b[32m[I 2023-03-27 13:18:04,585]\u001b[0m Trial 0 finished with value: 505.65267872897664 and parameters: {'lr_actor': 0.00047164381507713924, 'lr_critic': 0.00035026418122850175, 'gamma': 0.9947012598425967, 'hidden_size_actor': 56, 'hidden_size_critic': 96, 'actor_layers': 6, 'critic_layers': 7, 'max_tim': 2577}. Best is trial 0 with value: 505.65267872897664.\u001b[0m\n"
     ]
    },
    {
     "name": "stdout",
     "output_type": "stream",
     "text": [
      "Episode 5/5: reward=-505.16\n",
      "Episode 1/5: reward=-505.21\n",
      "Episode 2/5: reward=-505.59\n",
      "Episode 3/5: reward=-505.32\n",
      "Episode 4/5: reward=-505.39\n"
     ]
    },
    {
     "name": "stderr",
     "output_type": "stream",
     "text": [
      "\u001b[32m[I 2023-03-27 13:18:31,104]\u001b[0m Trial 1 finished with value: 505.4785539211518 and parameters: {'lr_actor': 0.000857159201111591, 'lr_critic': 0.000506844514857409, 'gamma': 0.9774766308786551, 'hidden_size_actor': 45, 'hidden_size_critic': 76, 'actor_layers': 7, 'critic_layers': 6, 'max_tim': 4629}. Best is trial 1 with value: 505.4785539211518.\u001b[0m\n"
     ]
    },
    {
     "name": "stdout",
     "output_type": "stream",
     "text": [
      "Episode 5/5: reward=-505.89\n",
      "Episode 1/5: reward=-505.45\n",
      "Episode 2/5: reward=-508.27\n",
      "Episode 3/5: reward=-515.53\n",
      "Episode 4/5: reward=-507.87\n"
     ]
    },
    {
     "name": "stderr",
     "output_type": "stream",
     "text": [
      "\u001b[32m[I 2023-03-27 13:18:57,561]\u001b[0m Trial 2 finished with value: 509.19177272487497 and parameters: {'lr_actor': 0.0008945456269720483, 'lr_critic': 0.0007082345104553595, 'gamma': 0.9879667996844652, 'hidden_size_actor': 79, 'hidden_size_critic': 43, 'actor_layers': 7, 'critic_layers': 7, 'max_tim': 3922}. Best is trial 1 with value: 505.4785539211518.\u001b[0m\n"
     ]
    },
    {
     "name": "stdout",
     "output_type": "stream",
     "text": [
      "Episode 5/5: reward=-508.84\n",
      "Episode 1/5: reward=-505.88\n",
      "Episode 2/5: reward=-505.54\n",
      "Episode 3/5: reward=-505.43\n",
      "Episode 4/5: reward=-504.98\n"
     ]
    },
    {
     "name": "stderr",
     "output_type": "stream",
     "text": [
      "\u001b[32m[I 2023-03-27 13:19:24,661]\u001b[0m Trial 3 finished with value: 505.5916514230711 and parameters: {'lr_actor': 0.00028541050204741405, 'lr_critic': 0.000967821191279092, 'gamma': 0.9920184335201941, 'hidden_size_actor': 72, 'hidden_size_critic': 73, 'actor_layers': 6, 'critic_layers': 7, 'max_tim': 1501}. Best is trial 1 with value: 505.4785539211518.\u001b[0m\n"
     ]
    },
    {
     "name": "stdout",
     "output_type": "stream",
     "text": [
      "Episode 5/5: reward=-506.13\n",
      "Episode 1/5: reward=-325.01\n",
      "Episode 2/5: reward=-324.81\n",
      "Episode 3/5: reward=-324.97\n",
      "Episode 4/5: reward=-324.84\n"
     ]
    },
    {
     "name": "stderr",
     "output_type": "stream",
     "text": [
      "\u001b[32m[I 2023-03-27 13:19:35,752]\u001b[0m Trial 4 finished with value: 324.8463800058114 and parameters: {'lr_actor': 0.00027992883218321034, 'lr_critic': 0.000574425305732212, 'gamma': 0.9868417055789047, 'hidden_size_actor': 60, 'hidden_size_critic': 91, 'actor_layers': 5, 'critic_layers': 3, 'max_tim': 643}. Best is trial 4 with value: 324.8463800058114.\u001b[0m\n"
     ]
    },
    {
     "name": "stdout",
     "output_type": "stream",
     "text": [
      "Episode 5/5: reward=-324.60\n",
      "Episode 1/5: reward=-334.49\n",
      "Episode 2/5: reward=-334.46\n",
      "Episode 3/5: reward=-334.43\n",
      "Episode 4/5: reward=-334.24\n"
     ]
    },
    {
     "name": "stderr",
     "output_type": "stream",
     "text": [
      "\u001b[32m[I 2023-03-27 13:19:46,332]\u001b[0m Trial 5 finished with value: 334.3872754791595 and parameters: {'lr_actor': 0.00032242224830888024, 'lr_critic': 0.0009662405422320055, 'gamma': 0.954851211939787, 'hidden_size_actor': 72, 'hidden_size_critic': 78, 'actor_layers': 3, 'critic_layers': 3, 'max_tim': 662}. Best is trial 4 with value: 324.8463800058114.\u001b[0m\n"
     ]
    },
    {
     "name": "stdout",
     "output_type": "stream",
     "text": [
      "Episode 5/5: reward=-334.32\n",
      "Episode 1/5: reward=-505.70\n",
      "Episode 2/5: reward=-504.97\n",
      "Episode 3/5: reward=-505.87\n",
      "Episode 4/5: reward=-505.59\n"
     ]
    },
    {
     "name": "stderr",
     "output_type": "stream",
     "text": [
      "\u001b[32m[I 2023-03-27 13:20:03,364]\u001b[0m Trial 6 finished with value: 505.9196778426798 and parameters: {'lr_actor': 0.0007563118145094698, 'lr_critic': 0.000640341608967694, 'gamma': 0.96112345843026, 'hidden_size_actor': 72, 'hidden_size_critic': 91, 'actor_layers': 4, 'critic_layers': 3, 'max_tim': 1788}. Best is trial 4 with value: 324.8463800058114.\u001b[0m\n"
     ]
    },
    {
     "name": "stdout",
     "output_type": "stream",
     "text": [
      "Episode 5/5: reward=-507.47\n",
      "Episode 1/5: reward=-505.86\n",
      "Episode 2/5: reward=-505.79\n",
      "Episode 3/5: reward=-505.13\n",
      "Episode 4/5: reward=-505.97\n"
     ]
    },
    {
     "name": "stderr",
     "output_type": "stream",
     "text": [
      "\u001b[32m[I 2023-03-27 13:20:29,957]\u001b[0m Trial 7 finished with value: 505.6260598514708 and parameters: {'lr_actor': 0.0006324518284241602, 'lr_critic': 0.00018766441011094486, 'gamma': 0.9867299552331191, 'hidden_size_actor': 64, 'hidden_size_critic': 93, 'actor_layers': 5, 'critic_layers': 7, 'max_tim': 3918}. Best is trial 4 with value: 324.8463800058114.\u001b[0m\n"
     ]
    },
    {
     "name": "stdout",
     "output_type": "stream",
     "text": [
      "Episode 5/5: reward=-505.38\n",
      "Episode 1/5: reward=-501.04\n",
      "Episode 2/5: reward=-501.27\n",
      "Episode 3/5: reward=-501.05\n",
      "Episode 4/5: reward=-500.89\n"
     ]
    },
    {
     "name": "stderr",
     "output_type": "stream",
     "text": [
      "\u001b[32m[I 2023-03-27 13:20:54,421]\u001b[0m Trial 8 finished with value: 501.0865634632981 and parameters: {'lr_actor': 0.00035946636948972757, 'lr_critic': 0.000712524819964464, 'gamma': 0.9930550998408573, 'hidden_size_actor': 59, 'hidden_size_critic': 56, 'actor_layers': 6, 'critic_layers': 7, 'max_tim': 992}. Best is trial 4 with value: 324.8463800058114.\u001b[0m\n"
     ]
    },
    {
     "name": "stdout",
     "output_type": "stream",
     "text": [
      "Episode 5/5: reward=-501.19\n",
      "Episode 1/5: reward=-506.44\n",
      "Episode 2/5: reward=-505.40\n",
      "Episode 3/5: reward=-506.00\n",
      "Episode 4/5: reward=-505.22\n"
     ]
    },
    {
     "name": "stderr",
     "output_type": "stream",
     "text": [
      "\u001b[32m[I 2023-03-27 13:21:18,347]\u001b[0m Trial 9 finished with value: 505.91958425495403 and parameters: {'lr_actor': 0.0007076931801067066, 'lr_critic': 0.00029673420888050897, 'gamma': 0.9952478133817231, 'hidden_size_actor': 45, 'hidden_size_critic': 77, 'actor_layers': 3, 'critic_layers': 6, 'max_tim': 4071}. Best is trial 4 with value: 324.8463800058114.\u001b[0m\n"
     ]
    },
    {
     "name": "stdout",
     "output_type": "stream",
     "text": [
      "Episode 5/5: reward=-506.55\n",
      "{'lr_actor': 0.00027992883218321034, 'lr_critic': 0.000574425305732212, 'gamma': 0.9868417055789047, 'hidden_size_actor': 60, 'hidden_size_critic': 91, 'actor_layers': 5, 'critic_layers': 3, 'max_tim': 643}\n"
     ]
    }
   ],
   "source": [
    "def objective(trial):\n",
    "    # Define the hyperparameters to optimize\n",
    "    lr_actor = trial.suggest_float(\"lr_actor\", 1e-4, 1e-3)\n",
    "    lr_critic = trial.suggest_float(\"lr_critic\", 1e-4, 1e-3)\n",
    "    gamma = trial.suggest_float(\"gamma\", 0.95, 0.999)\n",
    "    hidden_size_actor = trial.suggest_int(\"hidden_size_actor\", 32, 96)\n",
    "    hidden_size_critic = trial.suggest_int(\"hidden_size_critic\", 32, 96)\n",
    "    actor_layers = trial.suggest_int(\"actor_layers\", 3, 7)\n",
    "    critic_layers = trial.suggest_int(\"critic_layers\", 3, 7)\n",
    "    max_tim = trial.suggest_int(\"max_tim\", 200, 5000)\n",
    "    \n",
    "    # Create the environment\n",
    "    env = gym.make(\"SimulateCSTR-v1\")\n",
    "    \n",
    "    # Create the A2C agent with the current hyperparameters\n",
    "    agent = A2C(env, lr_actor=lr_actor, lr_critic=lr_critic, gamma=gamma, actor_hidden_sizes=hidden_size_actor,\n",
    "               critic_hidden_sizes=hidden_size_critic, actor_layers=actor_layers, critic_layers=critic_layers)\n",
    "    \n",
    "    # Train the agent and get the total rewards at each episode\n",
    "    _, _, episode_rewards = agent.train(n_episodes=5, max_timesteps=max_tim)\n",
    "    \n",
    "    # Compute the average total reward over all episodes\n",
    "    avg_total_reward = sum(episode_rewards) / len(episode_rewards)\n",
    "    \n",
    "    # Return the average total reward as the objective to minimize\n",
    "    return -avg_total_reward\n",
    "\n",
    "# Create an Optuna study and optimize the hyperparameters\n",
    "study = optuna.create_study()\n",
    "study.optimize(objective, n_trials=10)\n",
    "\n",
    "# Print the best hyperparameters\n",
    "print(study.best_params)"
   ]
  },
  {
   "cell_type": "code",
   "execution_count": 17,
   "id": "bf956930",
   "metadata": {},
   "outputs": [
    {
     "data": {
      "application/vnd.plotly.v1+json": {
       "config": {
        "plotlyServerURL": "https://plot.ly"
       },
       "data": [
        {
         "mode": "markers",
         "name": "Objective Value",
         "type": "scatter",
         "x": [
          0,
          1,
          2,
          3,
          4,
          5,
          6,
          7,
          8,
          9
         ],
         "y": [
          505.65267872897664,
          505.4785539211518,
          509.19177272487497,
          505.5916514230711,
          324.8463800058114,
          334.3872754791595,
          505.9196778426798,
          505.6260598514708,
          501.0865634632981,
          505.91958425495403
         ]
        },
        {
         "name": "Best Value",
         "type": "scatter",
         "x": [
          0,
          1,
          2,
          3,
          4,
          5,
          6,
          7,
          8,
          9
         ],
         "y": [
          505.65267872897664,
          505.4785539211518,
          505.4785539211518,
          505.4785539211518,
          324.8463800058114,
          324.8463800058114,
          324.8463800058114,
          324.8463800058114,
          324.8463800058114,
          324.8463800058114
         ]
        }
       ],
       "layout": {
        "template": {
         "data": {
          "bar": [
           {
            "error_x": {
             "color": "#2a3f5f"
            },
            "error_y": {
             "color": "#2a3f5f"
            },
            "marker": {
             "line": {
              "color": "#E5ECF6",
              "width": 0.5
             },
             "pattern": {
              "fillmode": "overlay",
              "size": 10,
              "solidity": 0.2
             }
            },
            "type": "bar"
           }
          ],
          "barpolar": [
           {
            "marker": {
             "line": {
              "color": "#E5ECF6",
              "width": 0.5
             },
             "pattern": {
              "fillmode": "overlay",
              "size": 10,
              "solidity": 0.2
             }
            },
            "type": "barpolar"
           }
          ],
          "carpet": [
           {
            "aaxis": {
             "endlinecolor": "#2a3f5f",
             "gridcolor": "white",
             "linecolor": "white",
             "minorgridcolor": "white",
             "startlinecolor": "#2a3f5f"
            },
            "baxis": {
             "endlinecolor": "#2a3f5f",
             "gridcolor": "white",
             "linecolor": "white",
             "minorgridcolor": "white",
             "startlinecolor": "#2a3f5f"
            },
            "type": "carpet"
           }
          ],
          "choropleth": [
           {
            "colorbar": {
             "outlinewidth": 0,
             "ticks": ""
            },
            "type": "choropleth"
           }
          ],
          "contour": [
           {
            "colorbar": {
             "outlinewidth": 0,
             "ticks": ""
            },
            "colorscale": [
             [
              0,
              "#0d0887"
             ],
             [
              0.1111111111111111,
              "#46039f"
             ],
             [
              0.2222222222222222,
              "#7201a8"
             ],
             [
              0.3333333333333333,
              "#9c179e"
             ],
             [
              0.4444444444444444,
              "#bd3786"
             ],
             [
              0.5555555555555556,
              "#d8576b"
             ],
             [
              0.6666666666666666,
              "#ed7953"
             ],
             [
              0.7777777777777778,
              "#fb9f3a"
             ],
             [
              0.8888888888888888,
              "#fdca26"
             ],
             [
              1,
              "#f0f921"
             ]
            ],
            "type": "contour"
           }
          ],
          "contourcarpet": [
           {
            "colorbar": {
             "outlinewidth": 0,
             "ticks": ""
            },
            "type": "contourcarpet"
           }
          ],
          "heatmap": [
           {
            "colorbar": {
             "outlinewidth": 0,
             "ticks": ""
            },
            "colorscale": [
             [
              0,
              "#0d0887"
             ],
             [
              0.1111111111111111,
              "#46039f"
             ],
             [
              0.2222222222222222,
              "#7201a8"
             ],
             [
              0.3333333333333333,
              "#9c179e"
             ],
             [
              0.4444444444444444,
              "#bd3786"
             ],
             [
              0.5555555555555556,
              "#d8576b"
             ],
             [
              0.6666666666666666,
              "#ed7953"
             ],
             [
              0.7777777777777778,
              "#fb9f3a"
             ],
             [
              0.8888888888888888,
              "#fdca26"
             ],
             [
              1,
              "#f0f921"
             ]
            ],
            "type": "heatmap"
           }
          ],
          "heatmapgl": [
           {
            "colorbar": {
             "outlinewidth": 0,
             "ticks": ""
            },
            "colorscale": [
             [
              0,
              "#0d0887"
             ],
             [
              0.1111111111111111,
              "#46039f"
             ],
             [
              0.2222222222222222,
              "#7201a8"
             ],
             [
              0.3333333333333333,
              "#9c179e"
             ],
             [
              0.4444444444444444,
              "#bd3786"
             ],
             [
              0.5555555555555556,
              "#d8576b"
             ],
             [
              0.6666666666666666,
              "#ed7953"
             ],
             [
              0.7777777777777778,
              "#fb9f3a"
             ],
             [
              0.8888888888888888,
              "#fdca26"
             ],
             [
              1,
              "#f0f921"
             ]
            ],
            "type": "heatmapgl"
           }
          ],
          "histogram": [
           {
            "marker": {
             "pattern": {
              "fillmode": "overlay",
              "size": 10,
              "solidity": 0.2
             }
            },
            "type": "histogram"
           }
          ],
          "histogram2d": [
           {
            "colorbar": {
             "outlinewidth": 0,
             "ticks": ""
            },
            "colorscale": [
             [
              0,
              "#0d0887"
             ],
             [
              0.1111111111111111,
              "#46039f"
             ],
             [
              0.2222222222222222,
              "#7201a8"
             ],
             [
              0.3333333333333333,
              "#9c179e"
             ],
             [
              0.4444444444444444,
              "#bd3786"
             ],
             [
              0.5555555555555556,
              "#d8576b"
             ],
             [
              0.6666666666666666,
              "#ed7953"
             ],
             [
              0.7777777777777778,
              "#fb9f3a"
             ],
             [
              0.8888888888888888,
              "#fdca26"
             ],
             [
              1,
              "#f0f921"
             ]
            ],
            "type": "histogram2d"
           }
          ],
          "histogram2dcontour": [
           {
            "colorbar": {
             "outlinewidth": 0,
             "ticks": ""
            },
            "colorscale": [
             [
              0,
              "#0d0887"
             ],
             [
              0.1111111111111111,
              "#46039f"
             ],
             [
              0.2222222222222222,
              "#7201a8"
             ],
             [
              0.3333333333333333,
              "#9c179e"
             ],
             [
              0.4444444444444444,
              "#bd3786"
             ],
             [
              0.5555555555555556,
              "#d8576b"
             ],
             [
              0.6666666666666666,
              "#ed7953"
             ],
             [
              0.7777777777777778,
              "#fb9f3a"
             ],
             [
              0.8888888888888888,
              "#fdca26"
             ],
             [
              1,
              "#f0f921"
             ]
            ],
            "type": "histogram2dcontour"
           }
          ],
          "mesh3d": [
           {
            "colorbar": {
             "outlinewidth": 0,
             "ticks": ""
            },
            "type": "mesh3d"
           }
          ],
          "parcoords": [
           {
            "line": {
             "colorbar": {
              "outlinewidth": 0,
              "ticks": ""
             }
            },
            "type": "parcoords"
           }
          ],
          "pie": [
           {
            "automargin": true,
            "type": "pie"
           }
          ],
          "scatter": [
           {
            "fillpattern": {
             "fillmode": "overlay",
             "size": 10,
             "solidity": 0.2
            },
            "type": "scatter"
           }
          ],
          "scatter3d": [
           {
            "line": {
             "colorbar": {
              "outlinewidth": 0,
              "ticks": ""
             }
            },
            "marker": {
             "colorbar": {
              "outlinewidth": 0,
              "ticks": ""
             }
            },
            "type": "scatter3d"
           }
          ],
          "scattercarpet": [
           {
            "marker": {
             "colorbar": {
              "outlinewidth": 0,
              "ticks": ""
             }
            },
            "type": "scattercarpet"
           }
          ],
          "scattergeo": [
           {
            "marker": {
             "colorbar": {
              "outlinewidth": 0,
              "ticks": ""
             }
            },
            "type": "scattergeo"
           }
          ],
          "scattergl": [
           {
            "marker": {
             "colorbar": {
              "outlinewidth": 0,
              "ticks": ""
             }
            },
            "type": "scattergl"
           }
          ],
          "scattermapbox": [
           {
            "marker": {
             "colorbar": {
              "outlinewidth": 0,
              "ticks": ""
             }
            },
            "type": "scattermapbox"
           }
          ],
          "scatterpolar": [
           {
            "marker": {
             "colorbar": {
              "outlinewidth": 0,
              "ticks": ""
             }
            },
            "type": "scatterpolar"
           }
          ],
          "scatterpolargl": [
           {
            "marker": {
             "colorbar": {
              "outlinewidth": 0,
              "ticks": ""
             }
            },
            "type": "scatterpolargl"
           }
          ],
          "scatterternary": [
           {
            "marker": {
             "colorbar": {
              "outlinewidth": 0,
              "ticks": ""
             }
            },
            "type": "scatterternary"
           }
          ],
          "surface": [
           {
            "colorbar": {
             "outlinewidth": 0,
             "ticks": ""
            },
            "colorscale": [
             [
              0,
              "#0d0887"
             ],
             [
              0.1111111111111111,
              "#46039f"
             ],
             [
              0.2222222222222222,
              "#7201a8"
             ],
             [
              0.3333333333333333,
              "#9c179e"
             ],
             [
              0.4444444444444444,
              "#bd3786"
             ],
             [
              0.5555555555555556,
              "#d8576b"
             ],
             [
              0.6666666666666666,
              "#ed7953"
             ],
             [
              0.7777777777777778,
              "#fb9f3a"
             ],
             [
              0.8888888888888888,
              "#fdca26"
             ],
             [
              1,
              "#f0f921"
             ]
            ],
            "type": "surface"
           }
          ],
          "table": [
           {
            "cells": {
             "fill": {
              "color": "#EBF0F8"
             },
             "line": {
              "color": "white"
             }
            },
            "header": {
             "fill": {
              "color": "#C8D4E3"
             },
             "line": {
              "color": "white"
             }
            },
            "type": "table"
           }
          ]
         },
         "layout": {
          "annotationdefaults": {
           "arrowcolor": "#2a3f5f",
           "arrowhead": 0,
           "arrowwidth": 1
          },
          "autotypenumbers": "strict",
          "coloraxis": {
           "colorbar": {
            "outlinewidth": 0,
            "ticks": ""
           }
          },
          "colorscale": {
           "diverging": [
            [
             0,
             "#8e0152"
            ],
            [
             0.1,
             "#c51b7d"
            ],
            [
             0.2,
             "#de77ae"
            ],
            [
             0.3,
             "#f1b6da"
            ],
            [
             0.4,
             "#fde0ef"
            ],
            [
             0.5,
             "#f7f7f7"
            ],
            [
             0.6,
             "#e6f5d0"
            ],
            [
             0.7,
             "#b8e186"
            ],
            [
             0.8,
             "#7fbc41"
            ],
            [
             0.9,
             "#4d9221"
            ],
            [
             1,
             "#276419"
            ]
           ],
           "sequential": [
            [
             0,
             "#0d0887"
            ],
            [
             0.1111111111111111,
             "#46039f"
            ],
            [
             0.2222222222222222,
             "#7201a8"
            ],
            [
             0.3333333333333333,
             "#9c179e"
            ],
            [
             0.4444444444444444,
             "#bd3786"
            ],
            [
             0.5555555555555556,
             "#d8576b"
            ],
            [
             0.6666666666666666,
             "#ed7953"
            ],
            [
             0.7777777777777778,
             "#fb9f3a"
            ],
            [
             0.8888888888888888,
             "#fdca26"
            ],
            [
             1,
             "#f0f921"
            ]
           ],
           "sequentialminus": [
            [
             0,
             "#0d0887"
            ],
            [
             0.1111111111111111,
             "#46039f"
            ],
            [
             0.2222222222222222,
             "#7201a8"
            ],
            [
             0.3333333333333333,
             "#9c179e"
            ],
            [
             0.4444444444444444,
             "#bd3786"
            ],
            [
             0.5555555555555556,
             "#d8576b"
            ],
            [
             0.6666666666666666,
             "#ed7953"
            ],
            [
             0.7777777777777778,
             "#fb9f3a"
            ],
            [
             0.8888888888888888,
             "#fdca26"
            ],
            [
             1,
             "#f0f921"
            ]
           ]
          },
          "colorway": [
           "#636efa",
           "#EF553B",
           "#00cc96",
           "#ab63fa",
           "#FFA15A",
           "#19d3f3",
           "#FF6692",
           "#B6E880",
           "#FF97FF",
           "#FECB52"
          ],
          "font": {
           "color": "#2a3f5f"
          },
          "geo": {
           "bgcolor": "white",
           "lakecolor": "white",
           "landcolor": "#E5ECF6",
           "showlakes": true,
           "showland": true,
           "subunitcolor": "white"
          },
          "hoverlabel": {
           "align": "left"
          },
          "hovermode": "closest",
          "mapbox": {
           "style": "light"
          },
          "paper_bgcolor": "white",
          "plot_bgcolor": "#E5ECF6",
          "polar": {
           "angularaxis": {
            "gridcolor": "white",
            "linecolor": "white",
            "ticks": ""
           },
           "bgcolor": "#E5ECF6",
           "radialaxis": {
            "gridcolor": "white",
            "linecolor": "white",
            "ticks": ""
           }
          },
          "scene": {
           "xaxis": {
            "backgroundcolor": "#E5ECF6",
            "gridcolor": "white",
            "gridwidth": 2,
            "linecolor": "white",
            "showbackground": true,
            "ticks": "",
            "zerolinecolor": "white"
           },
           "yaxis": {
            "backgroundcolor": "#E5ECF6",
            "gridcolor": "white",
            "gridwidth": 2,
            "linecolor": "white",
            "showbackground": true,
            "ticks": "",
            "zerolinecolor": "white"
           },
           "zaxis": {
            "backgroundcolor": "#E5ECF6",
            "gridcolor": "white",
            "gridwidth": 2,
            "linecolor": "white",
            "showbackground": true,
            "ticks": "",
            "zerolinecolor": "white"
           }
          },
          "shapedefaults": {
           "line": {
            "color": "#2a3f5f"
           }
          },
          "ternary": {
           "aaxis": {
            "gridcolor": "white",
            "linecolor": "white",
            "ticks": ""
           },
           "baxis": {
            "gridcolor": "white",
            "linecolor": "white",
            "ticks": ""
           },
           "bgcolor": "#E5ECF6",
           "caxis": {
            "gridcolor": "white",
            "linecolor": "white",
            "ticks": ""
           }
          },
          "title": {
           "x": 0.05
          },
          "xaxis": {
           "automargin": true,
           "gridcolor": "white",
           "linecolor": "white",
           "ticks": "",
           "title": {
            "standoff": 15
           },
           "zerolinecolor": "white",
           "zerolinewidth": 2
          },
          "yaxis": {
           "automargin": true,
           "gridcolor": "white",
           "linecolor": "white",
           "ticks": "",
           "title": {
            "standoff": 15
           },
           "zerolinecolor": "white",
           "zerolinewidth": 2
          }
         }
        },
        "title": {
         "text": "Optimization History Plot"
        },
        "xaxis": {
         "title": {
          "text": "Trial"
         }
        },
        "yaxis": {
         "title": {
          "text": "Objective Value"
         }
        }
       }
      },
      "text/html": [
       "<div>                            <div id=\"070d26a5-b80d-4090-bcb7-e863bc7024a3\" class=\"plotly-graph-div\" style=\"height:525px; width:100%;\"></div>            <script type=\"text/javascript\">                require([\"plotly\"], function(Plotly) {                    window.PLOTLYENV=window.PLOTLYENV || {};                                    if (document.getElementById(\"070d26a5-b80d-4090-bcb7-e863bc7024a3\")) {                    Plotly.newPlot(                        \"070d26a5-b80d-4090-bcb7-e863bc7024a3\",                        [{\"mode\":\"markers\",\"name\":\"Objective Value\",\"x\":[0,1,2,3,4,5,6,7,8,9],\"y\":[505.65267872897664,505.4785539211518,509.19177272487497,505.5916514230711,324.8463800058114,334.3872754791595,505.9196778426798,505.6260598514708,501.0865634632981,505.91958425495403],\"type\":\"scatter\"},{\"name\":\"Best Value\",\"x\":[0,1,2,3,4,5,6,7,8,9],\"y\":[505.65267872897664,505.4785539211518,505.4785539211518,505.4785539211518,324.8463800058114,324.8463800058114,324.8463800058114,324.8463800058114,324.8463800058114,324.8463800058114],\"type\":\"scatter\"}],                        {\"title\":{\"text\":\"Optimization History Plot\"},\"xaxis\":{\"title\":{\"text\":\"Trial\"}},\"yaxis\":{\"title\":{\"text\":\"Objective Value\"}},\"template\":{\"data\":{\"histogram2dcontour\":[{\"type\":\"histogram2dcontour\",\"colorbar\":{\"outlinewidth\":0,\"ticks\":\"\"},\"colorscale\":[[0.0,\"#0d0887\"],[0.1111111111111111,\"#46039f\"],[0.2222222222222222,\"#7201a8\"],[0.3333333333333333,\"#9c179e\"],[0.4444444444444444,\"#bd3786\"],[0.5555555555555556,\"#d8576b\"],[0.6666666666666666,\"#ed7953\"],[0.7777777777777778,\"#fb9f3a\"],[0.8888888888888888,\"#fdca26\"],[1.0,\"#f0f921\"]]}],\"choropleth\":[{\"type\":\"choropleth\",\"colorbar\":{\"outlinewidth\":0,\"ticks\":\"\"}}],\"histogram2d\":[{\"type\":\"histogram2d\",\"colorbar\":{\"outlinewidth\":0,\"ticks\":\"\"},\"colorscale\":[[0.0,\"#0d0887\"],[0.1111111111111111,\"#46039f\"],[0.2222222222222222,\"#7201a8\"],[0.3333333333333333,\"#9c179e\"],[0.4444444444444444,\"#bd3786\"],[0.5555555555555556,\"#d8576b\"],[0.6666666666666666,\"#ed7953\"],[0.7777777777777778,\"#fb9f3a\"],[0.8888888888888888,\"#fdca26\"],[1.0,\"#f0f921\"]]}],\"heatmap\":[{\"type\":\"heatmap\",\"colorbar\":{\"outlinewidth\":0,\"ticks\":\"\"},\"colorscale\":[[0.0,\"#0d0887\"],[0.1111111111111111,\"#46039f\"],[0.2222222222222222,\"#7201a8\"],[0.3333333333333333,\"#9c179e\"],[0.4444444444444444,\"#bd3786\"],[0.5555555555555556,\"#d8576b\"],[0.6666666666666666,\"#ed7953\"],[0.7777777777777778,\"#fb9f3a\"],[0.8888888888888888,\"#fdca26\"],[1.0,\"#f0f921\"]]}],\"heatmapgl\":[{\"type\":\"heatmapgl\",\"colorbar\":{\"outlinewidth\":0,\"ticks\":\"\"},\"colorscale\":[[0.0,\"#0d0887\"],[0.1111111111111111,\"#46039f\"],[0.2222222222222222,\"#7201a8\"],[0.3333333333333333,\"#9c179e\"],[0.4444444444444444,\"#bd3786\"],[0.5555555555555556,\"#d8576b\"],[0.6666666666666666,\"#ed7953\"],[0.7777777777777778,\"#fb9f3a\"],[0.8888888888888888,\"#fdca26\"],[1.0,\"#f0f921\"]]}],\"contourcarpet\":[{\"type\":\"contourcarpet\",\"colorbar\":{\"outlinewidth\":0,\"ticks\":\"\"}}],\"contour\":[{\"type\":\"contour\",\"colorbar\":{\"outlinewidth\":0,\"ticks\":\"\"},\"colorscale\":[[0.0,\"#0d0887\"],[0.1111111111111111,\"#46039f\"],[0.2222222222222222,\"#7201a8\"],[0.3333333333333333,\"#9c179e\"],[0.4444444444444444,\"#bd3786\"],[0.5555555555555556,\"#d8576b\"],[0.6666666666666666,\"#ed7953\"],[0.7777777777777778,\"#fb9f3a\"],[0.8888888888888888,\"#fdca26\"],[1.0,\"#f0f921\"]]}],\"surface\":[{\"type\":\"surface\",\"colorbar\":{\"outlinewidth\":0,\"ticks\":\"\"},\"colorscale\":[[0.0,\"#0d0887\"],[0.1111111111111111,\"#46039f\"],[0.2222222222222222,\"#7201a8\"],[0.3333333333333333,\"#9c179e\"],[0.4444444444444444,\"#bd3786\"],[0.5555555555555556,\"#d8576b\"],[0.6666666666666666,\"#ed7953\"],[0.7777777777777778,\"#fb9f3a\"],[0.8888888888888888,\"#fdca26\"],[1.0,\"#f0f921\"]]}],\"mesh3d\":[{\"type\":\"mesh3d\",\"colorbar\":{\"outlinewidth\":0,\"ticks\":\"\"}}],\"scatter\":[{\"fillpattern\":{\"fillmode\":\"overlay\",\"size\":10,\"solidity\":0.2},\"type\":\"scatter\"}],\"parcoords\":[{\"type\":\"parcoords\",\"line\":{\"colorbar\":{\"outlinewidth\":0,\"ticks\":\"\"}}}],\"scatterpolargl\":[{\"type\":\"scatterpolargl\",\"marker\":{\"colorbar\":{\"outlinewidth\":0,\"ticks\":\"\"}}}],\"bar\":[{\"error_x\":{\"color\":\"#2a3f5f\"},\"error_y\":{\"color\":\"#2a3f5f\"},\"marker\":{\"line\":{\"color\":\"#E5ECF6\",\"width\":0.5},\"pattern\":{\"fillmode\":\"overlay\",\"size\":10,\"solidity\":0.2}},\"type\":\"bar\"}],\"scattergeo\":[{\"type\":\"scattergeo\",\"marker\":{\"colorbar\":{\"outlinewidth\":0,\"ticks\":\"\"}}}],\"scatterpolar\":[{\"type\":\"scatterpolar\",\"marker\":{\"colorbar\":{\"outlinewidth\":0,\"ticks\":\"\"}}}],\"histogram\":[{\"marker\":{\"pattern\":{\"fillmode\":\"overlay\",\"size\":10,\"solidity\":0.2}},\"type\":\"histogram\"}],\"scattergl\":[{\"type\":\"scattergl\",\"marker\":{\"colorbar\":{\"outlinewidth\":0,\"ticks\":\"\"}}}],\"scatter3d\":[{\"type\":\"scatter3d\",\"line\":{\"colorbar\":{\"outlinewidth\":0,\"ticks\":\"\"}},\"marker\":{\"colorbar\":{\"outlinewidth\":0,\"ticks\":\"\"}}}],\"scattermapbox\":[{\"type\":\"scattermapbox\",\"marker\":{\"colorbar\":{\"outlinewidth\":0,\"ticks\":\"\"}}}],\"scatterternary\":[{\"type\":\"scatterternary\",\"marker\":{\"colorbar\":{\"outlinewidth\":0,\"ticks\":\"\"}}}],\"scattercarpet\":[{\"type\":\"scattercarpet\",\"marker\":{\"colorbar\":{\"outlinewidth\":0,\"ticks\":\"\"}}}],\"carpet\":[{\"aaxis\":{\"endlinecolor\":\"#2a3f5f\",\"gridcolor\":\"white\",\"linecolor\":\"white\",\"minorgridcolor\":\"white\",\"startlinecolor\":\"#2a3f5f\"},\"baxis\":{\"endlinecolor\":\"#2a3f5f\",\"gridcolor\":\"white\",\"linecolor\":\"white\",\"minorgridcolor\":\"white\",\"startlinecolor\":\"#2a3f5f\"},\"type\":\"carpet\"}],\"table\":[{\"cells\":{\"fill\":{\"color\":\"#EBF0F8\"},\"line\":{\"color\":\"white\"}},\"header\":{\"fill\":{\"color\":\"#C8D4E3\"},\"line\":{\"color\":\"white\"}},\"type\":\"table\"}],\"barpolar\":[{\"marker\":{\"line\":{\"color\":\"#E5ECF6\",\"width\":0.5},\"pattern\":{\"fillmode\":\"overlay\",\"size\":10,\"solidity\":0.2}},\"type\":\"barpolar\"}],\"pie\":[{\"automargin\":true,\"type\":\"pie\"}]},\"layout\":{\"autotypenumbers\":\"strict\",\"colorway\":[\"#636efa\",\"#EF553B\",\"#00cc96\",\"#ab63fa\",\"#FFA15A\",\"#19d3f3\",\"#FF6692\",\"#B6E880\",\"#FF97FF\",\"#FECB52\"],\"font\":{\"color\":\"#2a3f5f\"},\"hovermode\":\"closest\",\"hoverlabel\":{\"align\":\"left\"},\"paper_bgcolor\":\"white\",\"plot_bgcolor\":\"#E5ECF6\",\"polar\":{\"bgcolor\":\"#E5ECF6\",\"angularaxis\":{\"gridcolor\":\"white\",\"linecolor\":\"white\",\"ticks\":\"\"},\"radialaxis\":{\"gridcolor\":\"white\",\"linecolor\":\"white\",\"ticks\":\"\"}},\"ternary\":{\"bgcolor\":\"#E5ECF6\",\"aaxis\":{\"gridcolor\":\"white\",\"linecolor\":\"white\",\"ticks\":\"\"},\"baxis\":{\"gridcolor\":\"white\",\"linecolor\":\"white\",\"ticks\":\"\"},\"caxis\":{\"gridcolor\":\"white\",\"linecolor\":\"white\",\"ticks\":\"\"}},\"coloraxis\":{\"colorbar\":{\"outlinewidth\":0,\"ticks\":\"\"}},\"colorscale\":{\"sequential\":[[0.0,\"#0d0887\"],[0.1111111111111111,\"#46039f\"],[0.2222222222222222,\"#7201a8\"],[0.3333333333333333,\"#9c179e\"],[0.4444444444444444,\"#bd3786\"],[0.5555555555555556,\"#d8576b\"],[0.6666666666666666,\"#ed7953\"],[0.7777777777777778,\"#fb9f3a\"],[0.8888888888888888,\"#fdca26\"],[1.0,\"#f0f921\"]],\"sequentialminus\":[[0.0,\"#0d0887\"],[0.1111111111111111,\"#46039f\"],[0.2222222222222222,\"#7201a8\"],[0.3333333333333333,\"#9c179e\"],[0.4444444444444444,\"#bd3786\"],[0.5555555555555556,\"#d8576b\"],[0.6666666666666666,\"#ed7953\"],[0.7777777777777778,\"#fb9f3a\"],[0.8888888888888888,\"#fdca26\"],[1.0,\"#f0f921\"]],\"diverging\":[[0,\"#8e0152\"],[0.1,\"#c51b7d\"],[0.2,\"#de77ae\"],[0.3,\"#f1b6da\"],[0.4,\"#fde0ef\"],[0.5,\"#f7f7f7\"],[0.6,\"#e6f5d0\"],[0.7,\"#b8e186\"],[0.8,\"#7fbc41\"],[0.9,\"#4d9221\"],[1,\"#276419\"]]},\"xaxis\":{\"gridcolor\":\"white\",\"linecolor\":\"white\",\"ticks\":\"\",\"title\":{\"standoff\":15},\"zerolinecolor\":\"white\",\"automargin\":true,\"zerolinewidth\":2},\"yaxis\":{\"gridcolor\":\"white\",\"linecolor\":\"white\",\"ticks\":\"\",\"title\":{\"standoff\":15},\"zerolinecolor\":\"white\",\"automargin\":true,\"zerolinewidth\":2},\"scene\":{\"xaxis\":{\"backgroundcolor\":\"#E5ECF6\",\"gridcolor\":\"white\",\"linecolor\":\"white\",\"showbackground\":true,\"ticks\":\"\",\"zerolinecolor\":\"white\",\"gridwidth\":2},\"yaxis\":{\"backgroundcolor\":\"#E5ECF6\",\"gridcolor\":\"white\",\"linecolor\":\"white\",\"showbackground\":true,\"ticks\":\"\",\"zerolinecolor\":\"white\",\"gridwidth\":2},\"zaxis\":{\"backgroundcolor\":\"#E5ECF6\",\"gridcolor\":\"white\",\"linecolor\":\"white\",\"showbackground\":true,\"ticks\":\"\",\"zerolinecolor\":\"white\",\"gridwidth\":2}},\"shapedefaults\":{\"line\":{\"color\":\"#2a3f5f\"}},\"annotationdefaults\":{\"arrowcolor\":\"#2a3f5f\",\"arrowhead\":0,\"arrowwidth\":1},\"geo\":{\"bgcolor\":\"white\",\"landcolor\":\"#E5ECF6\",\"subunitcolor\":\"white\",\"showland\":true,\"showlakes\":true,\"lakecolor\":\"white\"},\"title\":{\"x\":0.05},\"mapbox\":{\"style\":\"light\"}}}},                        {\"responsive\": true}                    ).then(function(){\n",
       "                            \n",
       "var gd = document.getElementById('070d26a5-b80d-4090-bcb7-e863bc7024a3');\n",
       "var x = new MutationObserver(function (mutations, observer) {{\n",
       "        var display = window.getComputedStyle(gd).display;\n",
       "        if (!display || display === 'none') {{\n",
       "            console.log([gd, 'removed!']);\n",
       "            Plotly.purge(gd);\n",
       "            observer.disconnect();\n",
       "        }}\n",
       "}});\n",
       "\n",
       "// Listen for the removal of the full notebook cells\n",
       "var notebookContainer = gd.closest('#notebook-container');\n",
       "if (notebookContainer) {{\n",
       "    x.observe(notebookContainer, {childList: true});\n",
       "}}\n",
       "\n",
       "// Listen for the clearing of the current output cell\n",
       "var outputEl = gd.closest('.output');\n",
       "if (outputEl) {{\n",
       "    x.observe(outputEl, {childList: true});\n",
       "}}\n",
       "\n",
       "                        })                };                });            </script>        </div>"
      ]
     },
     "metadata": {},
     "output_type": "display_data"
    }
   ],
   "source": [
    "fig = vis.plot_optimization_history(study)\n",
    "fig.show()"
   ]
  },
  {
   "cell_type": "code",
   "execution_count": null,
   "id": "224763b0",
   "metadata": {},
   "outputs": [],
   "source": []
  }
 ],
 "metadata": {
  "kernelspec": {
   "display_name": "Python 3 (ipykernel)",
   "language": "python",
   "name": "python3"
  },
  "language_info": {
   "codemirror_mode": {
    "name": "ipython",
    "version": 3
   },
   "file_extension": ".py",
   "mimetype": "text/x-python",
   "name": "python",
   "nbconvert_exporter": "python",
   "pygments_lexer": "ipython3",
   "version": "3.7.16"
  }
 },
 "nbformat": 4,
 "nbformat_minor": 5
}
